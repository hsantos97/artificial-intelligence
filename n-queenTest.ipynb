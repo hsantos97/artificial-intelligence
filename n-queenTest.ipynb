{
 "cells": [
  {
   "cell_type": "code",
   "execution_count": 10,
   "metadata": {},
   "outputs": [],
   "source": [
    "import pandas as pd\n",
    "import numpy as np\n",
    "#from livelossplot import PlotLosses\n",
    "import random\n",
    "#from deap import creator, base, tools, algorithms"
   ]
  },
  {
   "cell_type": "code",
   "execution_count": 11,
   "metadata": {},
   "outputs": [],
   "source": [
    "#N = Número de rainhas\n",
    "N = 8\n",
    "\n",
    "#log_N = número de bits para representar cada rainha\n",
    "log_N = int(np.log2(N))\n",
    "#criando tabuleiro\n",
    "colunas = [i for i in range(N)]\n",
    "estado_inicial = pd.DataFrame(index=(colunas),columns=(colunas))\n",
    "tabuleiro = pd.DataFrame(index = (colunas),columns = (colunas))\n",
    "# coordenadas eixo Y\n",
    "eiy = [y for y in range(N)]\n",
    "#coordenadas eixo X\n",
    "arr = [i for i in range(N)]\n",
    "random.shuffle(arr)\n",
    "param = arr"
   ]
  },
  {
   "cell_type": "code",
   "execution_count": 12,
   "metadata": {
    "scrolled": true
   },
   "outputs": [],
   "source": [
    "'''criando estado inicial'''\n",
    "for i in range(len(eiy)):\n",
    "    estado_inicial[eiy[i]][param[i]] = 'Rainha' \n",
    "\n",
    "#Funções extraídas do código original do livro\n",
    "#https://github.com/aimacode/aima-python\n",
    "def conflicted(state, row, col):\n",
    "    \"\"\"Would placing a queen at (row, col) conflict with anything?\"\"\"\n",
    "    #print(state,row,col) \n",
    "    #print(any(conflict(row, col, state[h],h)\n",
    "               #for h in range(col)))\n",
    "    return any(conflict(row, col, state[c], c)\n",
    "               for c in range(col))\n",
    "\n",
    "def conflict(row1, col1, row2, col2):\n",
    "    \"\"\"Would putting two queens in (row1, col1) and (row2, col2) conflict?\"\"\"\n",
    "    #print(row1,col1,row2,col2)\n",
    "    \n",
    "    return (row1 == row2 or  # same row\n",
    "            col1 == col2 or  # same column\n",
    "            row1 - col1 == row2 - col2 or  # same \\ diagonal\n",
    "            row1 + col1 == row2 + col2)  # same / diagonal\n",
    "\n",
    "                      \n",
    "def goal_test(state):\n",
    "    \"\"\"Check if all columns filled, no conflicts.\"\"\"\n",
    "    if state[-1] == -1:\n",
    "        return False\n",
    "    return not any(conflicted(state, state[col], col)\n",
    "                   for col in range(len(state)))\n",
    "\n",
    "def h(node):\n",
    "    \"\"\"Return number of conflicting queens for a given node\"\"\"\n",
    "    num_conflicts = 0\n",
    "    confli_list =[]\n",
    "    for (r1, c1) in enumerate(node):\n",
    "        #print('r1 e c1',(r1,c1))\n",
    "        for (r2, c2) in enumerate(node):\n",
    "            #print((r1,c1),':',(r2,c2))\n",
    "            if (r1, c1) != (r2, c2):\n",
    "                num_conflicts += conflict(r1, c1, r2, c2)\n",
    "                confli_list.append([r1, c1, r2, c2])\n",
    "    #print(confli_list)    \n",
    "    \n",
    "    #print(\"numero conf\",num_conflicts)\n",
    "    return num_conflicts\n",
    "\n",
    "def nqueen_fitness(node):\n",
    "    node_int = []\n",
    "    for i in range(0, len(node), log_N):\n",
    "        a = map(str, node[i:i+log_N])    \n",
    "        node_int.append(int(''.join(a), 2))\n",
    "\n",
    "    return h(node_int),\n"
   ]
  },
  {
   "cell_type": "code",
   "execution_count": 17,
   "metadata": {},
   "outputs": [],
   "source": [
    "eix = param\n",
    "\n",
    "'''criando estado inicial'''\n",
    "for i in range(len(eiy)):\n",
    "    estado_inicial[eiy[i]][param[i]] = 'Rainha'\n",
    "    \n",
    "for i in range(len(eiy)):\n",
    "    tabuleiro[eiy[i]][eix[i]] = 'Rainha' "
   ]
  },
  {
   "cell_type": "code",
   "execution_count": null,
   "metadata": {},
   "outputs": [],
   "source": []
  }
 ],
 "metadata": {
  "kernelspec": {
   "display_name": "Python 3",
   "language": "python",
   "name": "python3"
  },
  "language_info": {
   "codemirror_mode": {
    "name": "ipython",
    "version": 3
   },
   "file_extension": ".py",
   "mimetype": "text/x-python",
   "name": "python",
   "nbconvert_exporter": "python",
   "pygments_lexer": "ipython3",
   "version": "3.6.5"
  }
 },
 "nbformat": 4,
 "nbformat_minor": 2
}
